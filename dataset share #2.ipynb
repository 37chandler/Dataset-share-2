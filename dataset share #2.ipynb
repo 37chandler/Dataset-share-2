{
 "cells": [
  {
   "cell_type": "code",
   "execution_count": 1,
   "metadata": {},
   "outputs": [
    {
     "name": "stdout",
     "output_type": "stream",
     "text": [
      "*** Introductory Examples for the NLTK Book ***\n",
      "Loading text1, ..., text9 and sent1, ..., sent9\n",
      "Type the name of the text or sentence to view it.\n",
      "Type: 'texts()' or 'sents()' to list the materials.\n",
      "text1: Moby Dick by Herman Melville 1851\n",
      "text2: Sense and Sensibility by Jane Austen 1811\n",
      "text3: The Book of Genesis\n",
      "text4: Inaugural Address Corpus\n",
      "text5: Chat Corpus\n",
      "text6: Monty Python and the Holy Grail\n",
      "text7: Wall Street Journal\n",
      "text8: Personals Corpus\n",
      "text9: The Man Who Was Thursday by G . K . Chesterton 1908\n"
     ]
    }
   ],
   "source": [
    "import nltk\n",
    "import numpy as np\n",
    "\n",
    "import nltk.classify.util\n",
    "from nltk.classify import NaiveBayesClassifier\n",
    "\n",
    "from nltk.book import *\n",
    "from string import punctuation\n",
    "from collections import Counter\n",
    "\n",
    "from pprint import pprint\n",
    "\n",
    "from nltk.corpus import stopwords\n",
    "\n",
    "sw = stopwords.words('english')"
   ]
  },
  {
   "cell_type": "code",
   "execution_count": 3,
   "metadata": {},
   "outputs": [],
   "source": [
    "Athlete_Events = open(\"athlete_events.txt\",'r',encoding=\"utf8\").read()"
   ]
  },
  {
   "cell_type": "code",
   "execution_count": 4,
   "metadata": {},
   "outputs": [
    {
     "data": {
      "text/plain": [
       "35911827"
      ]
     },
     "execution_count": 4,
     "metadata": {},
     "output_type": "execute_result"
    }
   ],
   "source": [
    "len(Athlete_Events)"
   ]
  },
  {
   "cell_type": "code",
   "execution_count": 5,
   "metadata": {},
   "outputs": [],
   "source": [
    "events_clean = [w for w in Athlete_Events.split()]\n",
    "events_clean = [w.lower() for w in events_clean if w.isalpha() and w.lower() not in sw]"
   ]
  },
  {
   "cell_type": "code",
   "execution_count": 6,
   "metadata": {},
   "outputs": [
    {
     "data": {
      "text/plain": [
       "['nielsen',\n",
       " 'lindenau',\n",
       " 'jacoba',\n",
       " 'skating',\n",
       " 'jacoba',\n",
       " 'skating',\n",
       " 'jacoba',\n",
       " 'skating',\n",
       " 'jacoba',\n",
       " 'skating']"
      ]
     },
     "execution_count": 6,
     "metadata": {},
     "output_type": "execute_result"
    }
   ],
   "source": [
    "events_clean[:10]"
   ]
  },
  {
   "cell_type": "code",
   "execution_count": 7,
   "metadata": {},
   "outputs": [
    {
     "data": {
      "text/plain": [
       "447684"
      ]
     },
     "execution_count": 7,
     "metadata": {},
     "output_type": "execute_result"
    }
   ],
   "source": [
    "len(events_clean)"
   ]
  },
  {
   "cell_type": "code",
   "execution_count": 8,
   "metadata": {},
   "outputs": [
    {
     "name": "stdout",
     "output_type": "stream",
     "text": [
      "Olympic History is 447684 tokens long.\n",
      "Olympic History has 22415 unique tokens.\n",
      "The History of the Olympic's lexical diversity is 0.050.\n",
      "The History of the Olympic's average token length is 5.94.\n"
     ]
    }
   ],
   "source": [
    "print(f\"Olympic History is {len(events_clean)} tokens long.\")\n",
    "print(f\"Olympic History has {len(set(events_clean))} unique tokens.\")\n",
    "\n",
    "print(f\"The History of the Olympic's lexical diversity is {len(set(events_clean))/len(events_clean):.3f}.\")\n",
    "\n",
    "olympic_token_len = [len(w) for w in events_clean]\n",
    "\n",
    "print(f\"The History of the Olympic's average token length is {np.mean(olympic_token_len):.2f}.\")"
   ]
  },
  {
   "cell_type": "code",
   "execution_count": 9,
   "metadata": {},
   "outputs": [
    {
     "data": {
      "text/plain": [
       "[('metres', 33219),\n",
       " ('skiing', 18899),\n",
       " ('country', 18266),\n",
       " ('de', 17578),\n",
       " ('mixed', 16940),\n",
       " ('x', 15452),\n",
       " ('skating', 9445),\n",
       " ('kilometres', 8996),\n",
       " ('team', 7612),\n",
       " ('individual', 6770)]"
      ]
     },
     "execution_count": 9,
     "metadata": {},
     "output_type": "execute_result"
    }
   ],
   "source": [
    "olympic_fd = FreqDist(events_clean)\n",
    "\n",
    "olympic_fd.most_common(10)"
   ]
  },
  {
   "cell_type": "code",
   "execution_count": null,
   "metadata": {},
   "outputs": [],
   "source": []
  }
 ],
 "metadata": {
  "kernelspec": {
   "display_name": "Python 3",
   "language": "python",
   "name": "python3"
  },
  "language_info": {
   "codemirror_mode": {
    "name": "ipython",
    "version": 3
   },
   "file_extension": ".py",
   "mimetype": "text/x-python",
   "name": "python",
   "nbconvert_exporter": "python",
   "pygments_lexer": "ipython3",
   "version": "3.8.3"
  }
 },
 "nbformat": 4,
 "nbformat_minor": 4
}
